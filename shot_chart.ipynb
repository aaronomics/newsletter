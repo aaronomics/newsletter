{
 "cells": [
  {
   "cell_type": "code",
   "execution_count": 4,
   "metadata": {},
   "outputs": [],
   "source": [
    "import numpy as np\n",
    "import pandas as pd\n",
    "import pickle\n",
    "import matplotlib\n",
    "import matplotlib.pyplot as plt\n",
    "color_map = plt.cm.winter\n",
    "from matplotlib.patches import RegularPolygon\n",
    "import math\n",
    "from PIL import Image\n",
    "\n",
    "from matplotlib.colors import ListedColormap, LinearSegmentedColormap\n",
    "import matplotlib.colors as mcolors"
   ]
  },
  {
   "cell_type": "code",
   "execution_count": 6,
   "metadata": {},
   "outputs": [],
   "source": [
    "c = mcolors.ColorConverter().to_rgb\n",
    "positive_cm = ListedColormap([c('#e1e5e5'), c('#d63b36')])\n",
    "negative_cm = ListedColormap([c('#e1e5e5'), c('#28aee4')])"
   ]
  },
  {
   "cell_type": "code",
   "execution_count": 8,
   "metadata": {},
   "outputs": [],
   "source": [
    "with open('../newsletter/2019full_dataset.pkl', 'rb') as f:\n",
    "    game_data = pickle.load(f)"
   ]
  },
  {
   "cell_type": "code",
   "execution_count": 9,
   "metadata": {},
   "outputs": [],
   "source": [
    "league_data = {}\n",
    "\n",
    "league_data['Shot'] = {}\n",
    "league_data['Shot']['x'] = []\n",
    "league_data['Shot']['y'] = []\n",
    "\n",
    "league_data['Goal'] = {}\n",
    "league_data['Goal']['x'] = []\n",
    "league_data['Goal']['y'] = []\n",
    "\n",
    "event_types = ['Shot', 'Goal']"
   ]
  },
  {
   "cell_type": "code",
   "execution_count": 11,
   "metadata": {},
   "outputs": [],
   "source": [
    "for data in game_data:\n",
    "    if 'liveData' not in data:\n",
    "        continue\n",
    "    plays = data['liveData']['plays']['allPlays']\n",
    "\n",
    "    for play in plays:\n",
    "        for event in event_types:\n",
    "            if play['result']['event'] in [event]:\n",
    "                if 'x' in play['coordinates']:\n",
    "                    league_data[event]['x'].append(play['coordinates']['x'])\n",
    "                    league_data[event]['y'].append(play['coordinates']['y'])\n",
    "                    "
   ]
  },
  {
   "cell_type": "code",
   "execution_count": 12,
   "metadata": {},
   "outputs": [],
   "source": [
    "full_name = 'Dylan Larkin'\n",
    "player_data = {}\n",
    "\n",
    "player_data['Shot'] = {}\n",
    "player_data['Shot']['x'] = []\n",
    "player_data['Shot']['y'] = []\n",
    "\n",
    "player_data['Goal'] = {}\n",
    "player_data['Goal']['x'] = []\n",
    "player_data['Goal']['y'] = []"
   ]
  },
  {
   "cell_type": "code",
   "execution_count": 15,
   "metadata": {},
   "outputs": [],
   "source": [
    "for play in plays:\n",
    "    if 'players' in play:\n",
    "        for player in play['players']:\n",
    "            if player['player']['full_name'] in [full_name] and player['playerType'] in [\"Shooter\", \"Scorer\"]:\n",
    "                player_total_shots = len(player_data['Shot']['x']) + len(player_data['Goal']['x'])\n",
    "                player_goal_pct = len(player_data['Goal']['x'])/player_total_shots\n",
    "                league_total_shots = len(league_data['Shot']['x']) + len(league_data['Goal']['x'])\n",
    "                league_goal_pct = len(league_data['Goal']['x'])/league_total_shots\n",
    "                PL_e_spread = player_goal_pct - league_goal_pct\n"
   ]
  }
 ],
 "metadata": {
  "interpreter": {
   "hash": "9db46249d01d803486562da2efab7c9bdabdd4af6ac23d548663e70dc17ef9d7"
  },
  "kernelspec": {
   "display_name": "Python 3.6.15 64-bit ('minimal_ds': conda)",
   "language": "python",
   "name": "python3"
  },
  "language_info": {
   "codemirror_mode": {
    "name": "ipython",
    "version": 3
   },
   "file_extension": ".py",
   "mimetype": "text/x-python",
   "name": "python",
   "nbconvert_exporter": "python",
   "pygments_lexer": "ipython3",
   "version": "3.6.15"
  },
  "orig_nbformat": 4
 },
 "nbformat": 4,
 "nbformat_minor": 2
}
