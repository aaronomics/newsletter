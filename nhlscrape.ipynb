{
 "cells": [
  {
   "cell_type": "code",
   "execution_count": 2,
   "metadata": {},
   "outputs": [],
   "source": [
    "import requests\n",
    "import pickle"
   ]
  },
  {
   "cell_type": "code",
   "execution_count": 3,
   "metadata": {},
   "outputs": [],
   "source": [
    "game_data = []\n",
    "year = '2019'\n",
    "season_type = '02' # 2 is regular season, 1 is pre, 3 is post, I believe\n",
    "max_game_ID = 1290 #max number of game events? not sure"
   ]
  },
  {
   "cell_type": "code",
   "execution_count": 7,
   "metadata": {},
   "outputs": [],
   "source": [
    "#loop over the counter and format the API call\n",
    "for i in range(0, max_game_ID):\n",
    "    r = requests.get(url='https://statsapi.web.nhl.com/api/v1/game/' + year + season_type + str(i).zfill(4) + '/feed/live')\n",
    "\n",
    "    data = r.json()\n",
    "    game_data.append(data)\n",
    "\n"
   ]
  },
  {
   "cell_type": "code",
   "execution_count": 10,
   "metadata": {},
   "outputs": [],
   "source": [
    "with open('./' + year + 'full_dataset.pkl', 'wb') as f:\n",
    "    pickle.dump(game_data, f, pickle.HIGHEST_PROTOCOL)"
   ]
  }
 ],
 "metadata": {
  "interpreter": {
   "hash": "9db46249d01d803486562da2efab7c9bdabdd4af6ac23d548663e70dc17ef9d7"
  },
  "kernelspec": {
   "display_name": "Python 3.6.15 64-bit ('minimal_ds': conda)",
   "language": "python",
   "name": "python3"
  },
  "language_info": {
   "codemirror_mode": {
    "name": "ipython",
    "version": 3
   },
   "file_extension": ".py",
   "mimetype": "text/x-python",
   "name": "python",
   "nbconvert_exporter": "python",
   "pygments_lexer": "ipython3",
   "version": "3.6.15"
  },
  "orig_nbformat": 4
 },
 "nbformat": 4,
 "nbformat_minor": 2
}
